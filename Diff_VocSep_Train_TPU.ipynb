{
 "cells": [
  {
   "cell_type": "markdown",
   "metadata": {
    "colab_type": "text",
    "id": "view-in-github"
   },
   "source": [
    "<a href=\"https://colab.research.google.com/github/chynggi/Diff-VocSep/blob/main/Diff_VocSep_Train_TPU.ipynb\" target=\"_parent\"><img src=\"https://colab.research.google.com/assets/colab-badge.svg\" alt=\"Open In Colab\"/></a>"
   ]
  },
  {
   "cell_type": "code",
   "execution_count": null,
   "metadata": {
    "id": "XN3lU9k4U1Pu"
   },
   "outputs": [],
   "source": [
    "from google.colab import drive\n",
    "drive.mount('/content/drive')"
   ]
  },
  {
   "cell_type": "code",
   "execution_count": null,
   "metadata": {
    "id": "uvXCu030BdRM"
   },
   "outputs": [],
   "source": [
    "!git clone https://github.com/chynggi/Diff-VocSep"
   ]
  },
  {
   "cell_type": "code",
   "execution_count": null,
   "metadata": {
    "id": "PxdKrC9bIULZ"
   },
   "outputs": [],
   "source": [
    "# Install dependencies (TPU-ready: torch/torch-xla 2.8)\n",
    "!pip install -r ./Diff-VocSep/requirements.txt\n",
    "!pip install \"torch==2.8.*\" \"torchvision==0.23.*\" \"torchaudio==2.8.*\"\n",
    "!pip install torch-xla[tpu]==2.8 -f https://storage.googleapis.com/libtpu-releases/index.html"
   ]
  },
  {
   "cell_type": "code",
   "execution_count": null,
   "metadata": {
    "id": "Vj4W3YHIU4v9"
   },
   "outputs": [],
   "source": [
    "!mkdir -p /content/Diff-VocSep/data/musdb18hq/\n",
    "!cp /content/drive/MyDrive/MUSDB18-HQ.7z /content/Diff-VocSep/data/musdb18hq/MUSDB18-HQ.7z"
   ]
  },
  {
   "cell_type": "code",
   "execution_count": null,
   "metadata": {
    "id": "ocRAAUXhIlFj"
   },
   "outputs": [],
   "source": [
    "%cd /content/Diff-VocSep\n",
    "# Set PJRT defaults for torch-xla 2.8+\n",
    "import os\n",
    "os.environ.setdefault(\"PJRT_DEVICE\", \"TPU\")\n",
    "os.environ.setdefault(\"XLA_USE_SPMD\", \"1\")\n",
    "# For torch-xla 2.8+, you can also use torchrun instead:\n",
    "# !torchrun --nproc_per_node=8 train_tpu.py --config config.yaml\n",
    "!python train_tpu.py --config config.yaml"
   ]
  }
 ],
 "metadata": {
  "accelerator": "GPU",
  "colab": {
   "authorship_tag": "ABX9TyPZ3nRcAZuZEHu8yjJ9tg2e",
   "gpuType": "T4",
   "include_colab_link": true,
   "private_outputs": true,
   "provenance": []
  },
  "kernelspec": {
   "display_name": "Python 3",
   "name": "python3"
  },
  "language_info": {
   "name": "python"
  }
 },
 "nbformat": 4,
 "nbformat_minor": 0
}
