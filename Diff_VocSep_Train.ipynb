{
  "nbformat": 4,
  "nbformat_minor": 0,
  "metadata": {
    "colab": {
      "private_outputs": true,
      "provenance": [],
      "gpuType": "T4",
      "authorship_tag": "ABX9TyMZMi4EKbZJwPxECRGbXEoX",
      "include_colab_link": true
    },
    "kernelspec": {
      "name": "python3",
      "display_name": "Python 3"
    },
    "language_info": {
      "name": "python"
    },
    "accelerator": "GPU"
  },
  "cells": [
    {
      "cell_type": "markdown",
      "metadata": {
        "id": "view-in-github",
        "colab_type": "text"
      },
      "source": [
        "<a href=\"https://colab.research.google.com/github/chynggi/Diff-VocSep/blob/main/Diff_VocSep_Train.ipynb\" target=\"_parent\"><img src=\"https://colab.research.google.com/assets/colab-badge.svg\" alt=\"Open In Colab\"/></a>"
      ]
    },
    {
      "cell_type": "code",
      "source": [
        "!nvidia-smi"
      ],
      "metadata": {
        "id": "z5OxVqOaWiKQ"
      },
      "execution_count": null,
      "outputs": []
    },
    {
      "cell_type": "code",
      "source": [
        "from google.colab import drive\n",
        "drive.mount('/content/drive')"
      ],
      "metadata": {
        "id": "XN3lU9k4U1Pu"
      },
      "execution_count": null,
      "outputs": []
    },
    {
      "cell_type": "code",
      "execution_count": null,
      "metadata": {
        "id": "uvXCu030BdRM"
      },
      "outputs": [],
      "source": [
        "!git clone https://github.com/chynggi/Diff-VocSep"
      ]
    },
    {
      "cell_type": "code",
      "source": [
        "!pip install -r ./Diff-VocSep/requirements.txt"
      ],
      "metadata": {
        "id": "PxdKrC9bIULZ"
      },
      "execution_count": null,
      "outputs": []
    },
    {
      "cell_type": "code",
      "source": [
        "!mkdir -p /content/Diff-VocSep/data/musdb18hq/\n",
        "!cp /content/drive/MyDrive/MUSDB18-HQ.7z /content/Diff-VocSep/data/musdb18hq/MUSDB18-HQ.7z"
      ],
      "metadata": {
        "id": "Vj4W3YHIU4v9"
      },
      "execution_count": null,
      "outputs": []
    },
    {
      "cell_type": "code",
      "source": [
        "%cd /content/Diff-VocSep\n",
        "!python train.py --config config.yaml"
      ],
      "metadata": {
        "id": "ocRAAUXhIlFj"
      },
      "execution_count": null,
      "outputs": []
    }
  ]
}